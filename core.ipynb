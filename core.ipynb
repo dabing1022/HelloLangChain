{
 "cells": [
  {
   "cell_type": "code",
   "execution_count": 51,
   "metadata": {},
   "outputs": [
    {
     "name": "stdout",
     "output_type": "stream",
     "text": [
      "content='你好！我是 **DeepSeek Chat**，由深度求索公司（DeepSeek）研发的智能AI助手。我可以帮助你解答各种问题，包括学习、工作、编程、写作、翻译、生活建议等。  \\n\\n### **我的特点：**  \\n🔹 **免费使用**：目前不收费，你可以随时向我提问！  \\n🔹 **知识丰富**：我的知识截止到 **2024年7月**，能提供较新的信息。  \\n🔹 **超长上下文**：支持 **128K** 上下文，可以处理超长文档和复杂对话。  \\n🔹 **文件阅读**：可以解析 **PDF、Word、Excel、PPT、TXT** 等文件内容。  \\n🔹 **逻辑与创造力兼备**：既能帮你写代码、分析数据，也能创作诗歌、故事和文案。  \\n\\n### **我能帮你做什么？**  \\n📚 **学习辅导**：解题思路、论文润色、语言学习  \\n💼 **工作效率**：写邮件、做PPT、整理会议纪要  \\n💡 **编程助手**：代码调试、算法优化、技术解答  \\n📝 **写作创意**：小说、文案、广告语、社交媒体帖子  \\n🌍 **旅行 & 生活**：推荐攻略、美食、健康建议  \\n\\n如果你有任何问题，尽管问我吧！😊' additional_kwargs={'refusal': None} response_metadata={'token_usage': {'completion_tokens': 278, 'prompt_tokens': 8, 'total_tokens': 286, 'completion_tokens_details': None, 'prompt_tokens_details': {'audio_tokens': None, 'cached_tokens': 0}, 'prompt_cache_hit_tokens': 0, 'prompt_cache_miss_tokens': 8}, 'model_name': 'deepseek-chat', 'system_fingerprint': 'fp_3d5141a69a_prod0225', 'id': '9677dec2-87b4-48fa-abce-0ac07e2b5337', 'finish_reason': 'stop', 'logprobs': None} id='run-a74ca8b4-843a-4eae-b59a-32f91d3bdf12-0' usage_metadata={'input_tokens': 8, 'output_tokens': 278, 'total_tokens': 286, 'input_token_details': {'cache_read': 0}, 'output_token_details': {}}\n"
     ]
    }
   ],
   "source": [
    "from langchain_openai import ChatOpenAI\n",
    "import os\n",
    "from dotenv import load_dotenv\n",
    "from config import (\n",
    "    OPENROUTER_DEEPSEEK_MODEL, \n",
    "    OPENROUTER_BASE_URL, \n",
    "    DEEPSEEK_MODEL, \n",
    "    DEEPSEEK_BASE_URL,\n",
    "    EMBEDDING_MODEL,\n",
    "    TUZI_BASE_URL\n",
    ")\n",
    "\n",
    "# 加载.env文件中的环境变量\n",
    "load_dotenv()\n",
    "\n",
    "# 从环境变量获取OpenRouter API密钥\n",
    "openrouter_api_key = os.getenv(\"OPENROUTER_API_KEY\")\n",
    "deepseek_api_key = os.getenv(\"DEEPSEEK_API_KEY\")\n",
    "\n",
    "# 初始化ChatOpenAI模型，指定base_url为OpenRouter的API端点\n",
    "llm = ChatOpenAI(\n",
    "    model=DEEPSEEK_MODEL,  # 例如 \"openai/gpt-3.5-turbo\"\n",
    "    api_key=deepseek_api_key,\n",
    "    base_url=DEEPSEEK_BASE_URL\n",
    ")\n",
    "\n",
    "# 使用模型进行聊天\n",
    "response = llm.invoke(\"你好，介绍一下自己。\")\n",
    "print(response)"
   ]
  },
  {
   "cell_type": "code",
   "execution_count": 52,
   "metadata": {},
   "outputs": [
    {
     "name": "stderr",
     "output_type": "stream",
     "text": [
      "/Users/childhoodandy/.pyenv/versions/3.11.3/lib/python3.11/site-packages/langchain/indexes/vectorstore.py:171: UserWarning: Using InMemoryVectorStore as the default vectorstore.This memory store won't persist data. You should explicitlyspecify a vectorstore when using VectorstoreIndexCreator\n",
      "  warnings.warn(\n"
     ]
    }
   ],
   "source": [
    "from langchain.prompts import PromptTemplate\n",
    "from langchain.chains import LLMChain\n",
    "from langchain.agents import load_tools, initialize_agent, AgentType\n",
    "from langchain.memory import ConversationBufferMemory\n",
    "from langchain.document_loaders import TextLoader\n",
    "from langchain.indexes import VectorstoreIndexCreator\n",
    "from langchain_openai import OpenAIEmbeddings \n",
    "\n",
    "# 2. Prompts - 创建提示模板\n",
    "prompt_template = PromptTemplate(\n",
    "    input_variables=[\"product\"],\n",
    "    template=\"请为{product}写一个简短的广告语。\"\n",
    ")\n",
    "\n",
    "# 3. Chains - 创建简单的链\n",
    "simple_chain = LLMChain(\n",
    "    llm=llm,\n",
    "    prompt=prompt_template\n",
    ")\n",
    "\n",
    "# 4. Memory - 创建记忆\n",
    "memory = ConversationBufferMemory(return_messages=True)\n",
    "\n",
    "# 5. Tools - 加载工具\n",
    "tools = load_tools([\"wikipedia\", \"llm-math\"], llm=llm)\n",
    "\n",
    "# 6. Agents - 初始化代理\n",
    "agent = initialize_agent(\n",
    "    tools, \n",
    "    llm, \n",
    "    agent=AgentType.ZERO_SHOT_REACT_DESCRIPTION,\n",
    "    memory=memory,\n",
    "    verbose=True,\n",
    "    handle_parsing_errors=True\n",
    ")\n",
    "\n",
    "# 7. Indexes - 创建索引(检索增强生成RAG的基础)\n",
    "loader = TextLoader(\"example_data.txt\")\n",
    "embedding_api_key = os.getenv(\"TUZI_API_KEY\")\n",
    "embeddings = OpenAIEmbeddings(\n",
    "    model=EMBEDDING_MODEL,\n",
    "    openai_api_key=embedding_api_key,\n",
    "    openai_api_base=TUZI_BASE_URL,\n",
    "    tiktoken_enabled=True\n",
    ")\n",
    "index = VectorstoreIndexCreator(embedding=embeddings).from_loaders([loader])"
   ]
  },
  {
   "cell_type": "code",
   "execution_count": 53,
   "metadata": {},
   "outputs": [
    {
     "name": "stdout",
     "output_type": "stream",
     "text": [
      "广告语生成结果: **“腕间智慧，健康随行——你的24小时智能生活管家！”**  \n",
      "\n",
      "（简洁突出核心功能：智能操控+健康监测，同时强调便捷与全天候陪伴感。）\n"
     ]
    }
   ],
   "source": [
    "# 使用简单的链\n",
    "ad_result = simple_chain.run(product=\"智能手表\")\n",
    "print(f\"广告语生成结果: {ad_result}\")"
   ]
  },
  {
   "cell_type": "code",
   "execution_count": 55,
   "metadata": {},
   "outputs": [
    {
     "name": "stdout",
     "output_type": "stream",
     "text": [
      "\n",
      "\n",
      "\u001b[1m> Entering new AgentExecutor chain...\u001b[0m\n",
      "\u001b[32;1m\u001b[1;3mThought: 我需要先了解阿尔伯特·爱因斯坦是谁，然后查找他的质能方程。\n",
      "\n",
      "Action: wikipedia  \n",
      "Action Input: 阿尔伯特·爱因斯坦  \n",
      "\u001b[0m\n",
      "Observation: \u001b[36;1m\u001b[1;3mPage: Honkai Impact 3rd\n",
      "Summary: Honkai Impact 3rd is a free-to-play 3D action role-playing game developed and published by miHoYo (with publishing outside mainland China under Cognosphere, trading as HoYoverse). It is the spiritual successor to Houkai Gakuen 2, using many characters from the previous title in a separate story. The game is notable for incorporating a variety of genres, from hack and slash and social simulation, to elements of bullet hell, platforming, shoot 'em up and dungeon crawling across multiple single and multiplayer modes. It features gacha mechanics. It was first released on mobile devices and later ported to Microsoft Windows.\n",
      "A massive expansion of the game, titled Honkai Impact 3rd Part 2 was released on February 29, 2024. Built upon the existing game, the update marks the start of the second major story arc of the game, with new characters, reworked UI, an updated engine, and a shift from a mission-based structure to a limited open-world structure.\n",
      "In addition to the game, the storyline of Honkai Impact 3rd spans multiple supplementary media including a series of animated shorts, multiple manhua series, and promotional videos.\u001b[0m\n",
      "Thought:\u001b[32;1m\u001b[1;3mThought: 看起来第一次搜索返回了错误的信息，我需要更明确地指定搜索内容。\n",
      "\n",
      "Action: wikipedia  \n",
      "Action Input: 阿尔伯特·爱因斯坦 物理学家  \n",
      "\u001b[0m\n",
      "Observation: \u001b[36;1m\u001b[1;3mNo good Wikipedia Search Result was found\u001b[0m\n",
      "Thought:\u001b[32;1m\u001b[1;3mThought: 可能需要用英文搜索阿尔伯特·爱因斯坦的信息，因为中文维基百科可能没有直接匹配的结果。\n",
      "\n",
      "Action: wikipedia  \n",
      "Action Input: Albert Einstein  \n",
      "\u001b[0m\n",
      "Observation: \u001b[36;1m\u001b[1;3mPage: Albert Einstein\n",
      "Summary: Albert Einstein (14 March 1879 – 18 April 1955) was a German-born theoretical physicist who is best known for developing the theory of relativity. Einstein also made important contributions to quantum mechanics. His mass–energy equivalence formula E = mc2, which arises from special relativity, has been called \"the world's most famous equation\". He received the 1921 Nobel Prize in Physics for his services to theoretical physics, and especially for his discovery of the law of the photoelectric effect.\n",
      "Born in the German Empire, Einstein moved to Switzerland in 1895, forsaking his German citizenship (as a subject of the Kingdom of Württemberg) the following year. In 1897, at the age of seventeen, he enrolled in the mathematics and physics teaching diploma program at the Swiss federal polytechnic school in Zurich, graduating in 1900. He acquired Swiss citizenship a year later, which he kept for the rest of his life, and afterwards secured a permanent position at the Swiss Patent Office in Bern. In 1905, he submitted a successful PhD dissertation to the University of Zurich. In 1914, he moved to Berlin to join the Prussian Academy of Sciences and the Humboldt University of Berlin, becoming director of the Kaiser Wilhelm Institute for Physics in 1917; he also became a German citizen again, this time as a subject of the Kingdom of Prussia. In 1933, while Einstein was visiting the United States, Adolf Hitler came to power in Germany. Horrified by the Nazi persecution of his fellow Jews, he decided to remain in the US, and was granted American citizenship in 1940. On the eve of World War II, he endorsed a letter to President Franklin D. Roosevelt alerting him to the potential German nuclear weapons program and recommending that the US begin similar research.\n",
      "In 1905, sometimes described as his annus mirabilis (miracle year), he published four groundbreaking papers. In them, he outlined a theory of the photoelectric effect, explained Brownian motion, introduced his special theory of relativity, and demonstrated that if the special theory is correct, mass and energy are equivalent to each other. In 1915, he proposed a general theory of relativity that extended his system of mechanics to incorporate gravitation. A cosmological paper that he published the following year laid out the implications of general relativity for the modeling of the structure and evolution of the universe as a whole. In 1917, Einstein wrote a paper which introduced the concepts of spontaneous emission and stimulated emission, the latter of which is the core mechanism behind the laser and maser, and which contained a trove of information that would be beneficial to developments in physics later on, such as quantum electrodynamics and quantum optics.\n",
      "In the middle part of his career, Einstein made important contributions to statistical mechanics and quantum theory. Especially notable was his work on the quantum physics of radiation, in which light consists of particles, subsequently called photons. With physicist Satyendra Nath Bose, he laid the groundwork for Bose–Einstein statistics. For much of the last phase of his academic life, Einstein worked on two endeavors that ultimately proved unsuccessful. First, he advocated against quantum theory's introduction of fundamental randomness into science's picture of the world, objecting that God does not play dice. Second, he attempted to devise a unified field theory by generalizing his geometric theory of gravitation to include electromagnetism. As a result, he became increasingly isolated from mainstream modern physics.\n",
      "\n",
      "\n",
      "\n",
      "Page: Hans Albert Einstein\n",
      "Summary: Hans Albert Einstein (May 14, 1904 – July 26, 1973) was a Swiss-American engineer, the second child and first son of physicists Albert Einstein and Mileva Marić. He was a long-time professor of hydraulic engineering at the University of California, Berkeley.\n",
      "Einstein was widely recognized for his research on sediment transport. To hono\u001b[0m\n",
      "Thought:\u001b[32;1m\u001b[1;3mThought: 现在我知道了阿尔伯特·爱因斯坦是一位著名的物理学家，他的质能方程是E=mc²。\n",
      "\n",
      "Final Answer: 阿尔伯特·爱因斯坦（Albert Einstein）是一位德国出生的理论物理学家，以发展相对论而闻名。他的质能方程是E=mc²，这个公式表明质量和能量可以相互转换。\u001b[0m\n",
      "\n",
      "\u001b[1m> Finished chain.\u001b[0m\n",
      "代理回答结果: 阿尔伯特·爱因斯坦（Albert Einstein）是一位德国出生的理论物理学家，以发展相对论而闻名。他的质能方程是E=mc²，这个公式表明质量和能量可以相互转换。\n"
     ]
    }
   ],
   "source": [
    "# 使用代理(可以使用工具和记忆)\n",
    "agent_result = agent.run(\"谁是阿尔伯特·爱因斯坦？他的质能方程是什么？\")\n",
    "print(f\"代理回答结果: {agent_result}\")"
   ]
  },
  {
   "cell_type": "code",
   "execution_count": 54,
   "metadata": {},
   "outputs": [
    {
     "name": "stdout",
     "output_type": "stream",
     "text": [
      "检索问答结果: 根据提供的文档内容，最重要的主题可以归纳为以下几个方面：\n",
      "\n",
      "1. **人工智能的定义与分类**  \n",
      "   文档首先明确了AI的核心概念（模仿人类智能的计算机系统）及其三大类型（狭义AI、通用AI、超级AI），这是理解整个领域的基础框架。\n",
      "\n",
      "2. **核心技术（机器学习与深度学习）**  \n",
      "   作为当前AI发展的核心驱动力，文档详细介绍了机器学习的三大范式（监督/无监督/强化学习）和深度学习的典型模型架构（CNN、RNN、变换器），这些技术支撑了绝大多数AI应用。\n",
      "\n",
      "3. **跨领域应用**  \n",
      "   文档列举了AI在医疗、金融、交通等关键领域的实际价值，凸显了其社会影响力。这些应用案例直接体现了AI技术的现实意义。\n",
      "\n",
      "4. **伦理挑战**  \n",
      "   特别强调了AI发展伴随的隐私、偏见、就业影响等伦理问题，反映出技术与社会责任的平衡是当前的重要议题。\n",
      "\n",
      "**最关键主题**：  \n",
      "**\"机器学习与深度学习技术\"**是文档中最核心的内容，因为它们是实现所有AI应用的基础方法论，同时其发展也直接关联到伦理挑战和未来趋势的讨论。其他主题（如分类、应用）均围绕这些核心技术展开。\n"
     ]
    }
   ],
   "source": [
    "\n",
    "# 使用索引进行检索问答\n",
    "query_result = index.query(\"文档中最重要的主题是什么？\",llm=llm)\n",
    "print(f\"检索问答结果: {query_result}\")"
   ]
  }
 ],
 "metadata": {
  "kernelspec": {
   "display_name": "Python 3 (ipykernel)",
   "language": "python",
   "name": "python3"
  },
  "language_info": {
   "codemirror_mode": {
    "name": "ipython",
    "version": 3
   },
   "file_extension": ".py",
   "mimetype": "text/x-python",
   "name": "python",
   "nbconvert_exporter": "python",
   "pygments_lexer": "ipython3",
   "version": "3.11.3"
  }
 },
 "nbformat": 4,
 "nbformat_minor": 2
}
