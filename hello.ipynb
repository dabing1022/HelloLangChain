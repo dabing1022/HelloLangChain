{
 "cells": [
  {
   "cell_type": "code",
   "execution_count": null,
   "metadata": {},
   "outputs": [],
   "source": [
    "from langchain_deepseek import ChatDeepSeek\n",
    "import os\n",
    "from dotenv import load_dotenv\n",
    "# 加载.env文件中的环境变量\n",
    "load_dotenv()\n",
    "\n",
    "# 从环境变量获取API密钥\n",
    "deepseek_api_key = os.getenv(\"DEEPSEEK_API_KEY\")\n",
    "\n",
    "# 初始化ChatDeepSeek模型，指定模型为\"deepseek-chat\"（即DeepSeek-V3）\n",
    "# 使用环境变量中的API密钥\n",
    "llm = ChatDeepSeek(model=\"deepseek-chat\", api_key=deepseek_api_key)\n",
    "\n",
    "# 使用模型进行聊天\n",
    "response = llm.invoke(\"你好，介绍一下自己。\")\n",
    "\n",
    "print(response)"
   ]
  },
  {
   "cell_type": "code",
   "execution_count": null,
   "metadata": {},
   "outputs": [
    {
     "ename": "NameError",
     "evalue": "name 'os' is not defined",
     "output_type": "error",
     "traceback": [
      "\u001b[0;31m---------------------------------------------------------------------------\u001b[0m",
      "\u001b[0;31mNameError\u001b[0m                                 Traceback (most recent call last)",
      "Cell \u001b[0;32mIn[3], line 3\u001b[0m\n\u001b[1;32m      1\u001b[0m \u001b[38;5;28;01mfrom\u001b[39;00m \u001b[38;5;21;01mlangchain_openai\u001b[39;00m \u001b[38;5;28;01mimport\u001b[39;00m ChatOpenAI\n\u001b[1;32m      2\u001b[0m \u001b[38;5;66;03m# 从环境变量获取OpenRouter API密钥\u001b[39;00m\n\u001b[0;32m----> 3\u001b[0m openrouter_api_key \u001b[38;5;241m=\u001b[39m \u001b[43mos\u001b[49m\u001b[38;5;241m.\u001b[39mgetenv(\u001b[38;5;124m\"\u001b[39m\u001b[38;5;124mOPENROUTER_API_KEY\u001b[39m\u001b[38;5;124m\"\u001b[39m)\n\u001b[1;32m      5\u001b[0m \u001b[38;5;66;03m# 初始化ChatOpenAI模型，指定base_url为OpenRouter的API端点\u001b[39;00m\n\u001b[1;32m      6\u001b[0m deepseek_openai \u001b[38;5;241m=\u001b[39m ChatOpenAI(\n\u001b[1;32m      7\u001b[0m     model\u001b[38;5;241m=\u001b[39m\u001b[38;5;124m\"\u001b[39m\u001b[38;5;124mdeepseek/deepseek-chat-v3-0324:free\u001b[39m\u001b[38;5;124m\"\u001b[39m,  \u001b[38;5;66;03m# 例如 \"openai/gpt-3.5-turbo\"\u001b[39;00m\n\u001b[1;32m      8\u001b[0m     api_key\u001b[38;5;241m=\u001b[39mopenrouter_api_key,\n\u001b[1;32m      9\u001b[0m     base_url\u001b[38;5;241m=\u001b[39m\u001b[38;5;124m\"\u001b[39m\u001b[38;5;124mhttps://openrouter.ai/api/v1\u001b[39m\u001b[38;5;124m\"\u001b[39m\n\u001b[1;32m     10\u001b[0m )\n",
      "\u001b[0;31mNameError\u001b[0m: name 'os' is not defined"
     ]
    }
   ],
   "source": [
    "from langchain_openai import ChatOpenAI\n",
    "import os\n",
    "from dotenv import load_dotenv\n",
    "# 加载.env文件中的环境变量\n",
    "load_dotenv()\n",
    "\n",
    "# 从环境变量获取OpenRouter API密钥\n",
    "openrouter_api_key = os.getenv(\"OPENROUTER_API_KEY\")\n",
    "\n",
    "# 初始化ChatOpenAI模型，指定base_url为OpenRouter的API端点\n",
    "deepseek_openai = ChatOpenAI(\n",
    "    model=\"deepseek/deepseek-chat-v3-0324:free\",  # 例如 \"openai/gpt-3.5-turbo\"\n",
    "    api_key=openrouter_api_key,\n",
    "    base_url=\"https://openrouter.ai/api/v1\"\n",
    ")\n",
    "\n",
    "# 使用模型进行聊天\n",
    "response = deepseek_openai.invoke(\"你好，介绍一下自己。\")\n",
    "print(response)\n"
   ]
  }
 ],
 "metadata": {
  "kernelspec": {
   "display_name": "Python 3 (ipykernel)",
   "language": "python",
   "name": "python3"
  },
  "language_info": {
   "codemirror_mode": {
    "name": "ipython",
    "version": 3
   },
   "file_extension": ".py",
   "mimetype": "text/x-python",
   "name": "python",
   "nbconvert_exporter": "python",
   "pygments_lexer": "ipython3",
   "version": "3.11.3"
  }
 },
 "nbformat": 4,
 "nbformat_minor": 2
}
