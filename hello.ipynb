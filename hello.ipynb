{
 "cells": [
  {
   "cell_type": "code",
   "execution_count": null,
   "metadata": {},
   "outputs": [],
   "source": [
    "from langchain_deepseek import ChatDeepSeek\n",
    "import os\n",
    "from dotenv import load_dotenv\n",
    "# 加载.env文件中的环境变量\n",
    "load_dotenv()\n",
    "\n",
    "# 从环境变量获取API密钥\n",
    "deepseek_api_key = os.getenv(\"DEEPSEEK_API_KEY\")\n",
    "\n",
    "# 初始化ChatDeepSeek模型，指定模型为\"deepseek-chat\"（即DeepSeek-V3）\n",
    "# 使用环境变量中的API密钥\n",
    "llm = ChatDeepSeek(model=\"deepseek-chat\", api_key=deepseek_api_key)\n",
    "\n",
    "# 使用模型进行聊天\n",
    "response = llm.invoke(\"你好，介绍一下自己。\")\n",
    "\n",
    "print(response)"
   ]
  },
  {
   "cell_type": "code",
   "execution_count": 4,
   "metadata": {},
   "outputs": [
    {
     "name": "stdout",
     "output_type": "stream",
     "text": [
      "content='你好！我是 **DeepSeek Chat**，由深度求索（DeepSeek）公司研发的智能 AI 助手。我可以帮助你解答各种问题，包括学习、工作、编程、生活百科、创意写作等。以下是我的一些特点：  \\n\\n🔹 **知识丰富**：我的知识截止到 **2024 年 7 月**，可以为你提供准确、最新的信息。  \\n🔹 **超长上下文**：支持 **128K** 上下文记忆，能处理超长文档，保持对话连贯性。  \\n🔹 **文件阅读**：可以解析 **PDF、Word、Excel、PPT、TXT** 等文件，帮助你提取关键信息。  \\n🔹 **免费使用**：目前无需付费，你可以随时向我提问！  \\n🔹 **多语言支持**：可以用 **中文、英文** 等多种语言交流。  \\n\\n无论是查资料、写论文、代码调试，还是日常聊天，我都会尽力帮助你！😊 有什么我可以帮你的吗？' additional_kwargs={'refusal': None} response_metadata={'token_usage': {'completion_tokens': 209, 'prompt_tokens': 8, 'total_tokens': 217, 'completion_tokens_details': None, 'prompt_tokens_details': None}, 'model_name': 'deepseek/deepseek-chat-v3-0324', 'system_fingerprint': None, 'id': 'gen-1744169300-OaLEnbdPf0f8jpgVtGiL', 'finish_reason': 'stop', 'logprobs': None} id='run-b185ee55-c65e-45ef-8310-c4d67ba6a872-0' usage_metadata={'input_tokens': 8, 'output_tokens': 209, 'total_tokens': 217, 'input_token_details': {}, 'output_token_details': {}}\n"
     ]
    }
   ],
   "source": [
    "from langchain_openai import ChatOpenAI\n",
    "import os\n",
    "from dotenv import load_dotenv\n",
    "# 加载.env文件中的环境变量\n",
    "load_dotenv()\n",
    "\n",
    "# 从环境变量获取OpenRouter API密钥\n",
    "openrouter_api_key = os.getenv(\"OPENROUTER_API_KEY\")\n",
    "\n",
    "# 初始化ChatOpenAI模型，指定base_url为OpenRouter的API端点\n",
    "deepseek_openai = ChatOpenAI(\n",
    "    model=\"deepseek/deepseek-chat-v3-0324:free\",  # 例如 \"openai/gpt-3.5-turbo\"\n",
    "    api_key=openrouter_api_key,\n",
    "    base_url=\"https://openrouter.ai/api/v1\"\n",
    ")\n",
    "\n",
    "# 使用模型进行聊天\n",
    "response = deepseek_openai.invoke(\"你好，介绍一下自己。\")\n",
    "print(response)\n"
   ]
  }
 ],
 "metadata": {
  "kernelspec": {
   "display_name": "Python 3 (ipykernel)",
   "language": "python",
   "name": "python3"
  },
  "language_info": {
   "codemirror_mode": {
    "name": "ipython",
    "version": 3
   },
   "file_extension": ".py",
   "mimetype": "text/x-python",
   "name": "python",
   "nbconvert_exporter": "python",
   "pygments_lexer": "ipython3",
   "version": "3.11.3"
  }
 },
 "nbformat": 4,
 "nbformat_minor": 2
}
